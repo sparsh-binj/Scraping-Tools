{
 "cells": [
  {
   "cell_type": "markdown",
   "id": "52fe53f2",
   "metadata": {},
   "source": [
    "## FBREF SCRAPING TOOL\n",
    "\n",
    "This file is to scrape tables from FBREF website and store it as a Pandas Dataframe. You can also save the dataframe as a csv or xlsx file. \n",
    "\n",
    "### Directions\n",
    "\n",
    "You only need to change Cell 7 and then run all the cells. \n",
    "\n",
    "The instructions are given there.\n",
    "\n",
    "You should see a sample of the scraped table before it is saved in a file wherever you have stored this notebook on your console."
   ]
  },
  {
   "cell_type": "code",
   "execution_count": 1,
   "id": "8cfe8f40",
   "metadata": {},
   "outputs": [],
   "source": [
    "# Convert html table to pandas dataframe \n",
    "import pandas as pd\n",
    "\n",
    "# Webpage and Captcha handling\n",
    "import requests\n",
    "from selenium import webdriver\n",
    "from seleniumbase import SB\n",
    "from selenium.webdriver.common.keys import Keys\n",
    "from selenium.webdriver.chrome.service import Service\n",
    "from selenium.webdriver.support.ui import WebDriverWait\n",
    "from selenium.webdriver.support import expected_conditions as EC\n",
    "\n",
    "# Getting data from webpage \n",
    "from bs4 import BeautifulSoup\n",
    "import codecs\n",
    "import re\n",
    "from webdriver_manager.chrome import ChromeDriverManager"
   ]
  },
  {
   "cell_type": "code",
   "execution_count": 2,
   "id": "39d68cf1",
   "metadata": {},
   "outputs": [],
   "source": [
    "# Fbref generally has multi-level columns which this custom join merges as one by hyphenating and appending them \n",
    "def custom_join(columns):\n",
    "    col1, col2 = columns\n",
    "    if col1.startswith(\"Unnamed\") and col2.startswith(\"Unnamed\"):\n",
    "        return col1\n",
    "    elif col1.startswith(\"Unnamed\"):\n",
    "        return col2\n",
    "    elif col2.startswith(\"Unnamed\"):\n",
    "        return col1\n",
    "    else:\n",
    "        return f\"{col1}-{col2}\""
   ]
  },
  {
   "cell_type": "code",
   "execution_count": 3,
   "id": "9dc6c1d6",
   "metadata": {},
   "outputs": [],
   "source": [
    "# Gets the html source code of the page. Some tables are also located in the comments so it uncomments\n",
    "# the tables as well\n",
    "def get_html_source(url, keyword=\"Premier League\"):\n",
    "    with SB(uc=True, test=True) as sb:\n",
    "        sb.driver.uc_open_with_reconnect(url, 3)\n",
    "        if not sb.is_text_visible(keyword):\n",
    "            sb.driver.uc_open_with_reconnect(url, 4)\n",
    "        sb.assert_text(keyword, timeout=3)\n",
    "        html_source = sb.get_page_source().replace('<!--','').replace('-->','')\n",
    "    return html_source\n"
   ]
  },
  {
   "cell_type": "code",
   "execution_count": 4,
   "id": "1b89b70a",
   "metadata": {},
   "outputs": [],
   "source": [
    "# Finds the table with the given table_id\n",
    "def get_table_df(html_source, table_id):\n",
    "    soup = BeautifulSoup(html_source, 'html.parser')\n",
    "    table = soup.find('table', id=table_id)\n",
    "    df = pd.read_html(str(table))[0]\n",
    "    return df"
   ]
  },
  {
   "cell_type": "code",
   "execution_count": 11,
   "id": "3b990958",
   "metadata": {},
   "outputs": [],
   "source": [
    "# Cleans the table of null values and drops the given list of columns. \n",
    "# Also excludes players that have not played the \"min_matches\" number of games.\n",
    "def clean_table(df, min_matches, cols_drop_list=['Rk', 'Nation', 'Born', 'Matches']):\n",
    "    df.columns = df.columns.map(custom_join)\n",
    "    df = df.dropna(subset=['Rk'])\n",
    "    df = df[df[\"Player\"] != \"Player\"]\n",
    "    df = df.drop(cols_drop_list, axis=1)\n",
    "    df = df[df[\"90s\"].astype(float) >= min_matches]\n",
    "    return df"
   ]
  },
  {
   "cell_type": "code",
   "execution_count": 14,
   "id": "531d228e",
   "metadata": {},
   "outputs": [],
   "source": [
    "# Saves the table in csv or xlsx format\n",
    "# Default is csv\n",
    "def save_df(filename, is_excel=False):\n",
    "    if is_excel:\n",
    "        df.to_excel(filename+\".xlsx\", index=False)\n",
    "    else:\n",
    "        df.to_csv(filename+\".csv\", index=False)"
   ]
  },
  {
   "cell_type": "code",
   "execution_count": 21,
   "id": "6fd9f47c",
   "metadata": {},
   "outputs": [
    {
     "name": "stdout",
     "output_type": "stream",
     "text": [
      "==================== {  File \"<frozen runpy>:198:SB} starts ====================\n",
      "=============== {  File \"<frozen runpy>:198:SB} passed in 16.08s ===============\n"
     ]
    }
   ],
   "source": [
    "# Steps:\n",
    "# 1. Add URL to scrape. Ensure that it contains the table you want.\n",
    "# 2. Add keywords that adds a security check that the right page is being scraped\n",
    "# 3. Look up the table id by accessing the html code of the page (command + option + I / ctrl + shift + I)\n",
    "# 4. List the columns you want to drop from the table\n",
    "# 5. Set the min number of matches played for a player to be included in the dataset\n",
    "\n",
    "url = \"https://fbref.com/en/comps/Big5/defense/players/Big-5-European-Leagues-Stats\"\n",
    "keyword = \"Big 5 European\"\n",
    "table_id = \"stats_defense\"\n",
    "cols_drop_list=['Rk', 'Nation', 'Born', 'Matches']\n",
    "min_matches = 4 #(360 minutes ~ 1 min/game)\n",
    "\n",
    "\n",
    "html_source = get_html_source(url, keyword)\n",
    "df = get_table_df(html_source, table_id)\n",
    "df = clean_table(df, min_matches, cols_drop_list)\n",
    "df.head()\n",
    "save_df(\"Big_5_23_24_Defensive_Actions\")"
   ]
  }
 ],
 "metadata": {
  "kernelspec": {
   "display_name": "Python 3 (ipykernel)",
   "language": "python",
   "name": "python3"
  },
  "language_info": {
   "codemirror_mode": {
    "name": "ipython",
    "version": 3
   },
   "file_extension": ".py",
   "mimetype": "text/x-python",
   "name": "python",
   "nbconvert_exporter": "python",
   "pygments_lexer": "ipython3",
   "version": "3.11.5"
  }
 },
 "nbformat": 4,
 "nbformat_minor": 5
}
