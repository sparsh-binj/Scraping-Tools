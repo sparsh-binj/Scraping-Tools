{
 "cells": [
  {
   "cell_type": "code",
   "execution_count": 1,
   "id": "c35576ee",
   "metadata": {},
   "outputs": [],
   "source": [
    "# Import packages\n",
    "from nba_api.stats.endpoints import shotchartdetail\n",
    "import pandas as pd\n",
    "import json\n",
    "import requests\n",
    "import datetime"
   ]
  },
  {
   "cell_type": "code",
   "execution_count": 1,
   "id": "243dce5b",
   "metadata": {},
   "outputs": [
    {
     "ename": "ValueError",
     "evalue": "This sheet is too large! Your sheet size is: 4231262, 26 Max sheet size is: 1048576, 16384",
     "output_type": "error",
     "traceback": [
      "\u001b[0;31m---------------------------------------------------------------------------\u001b[0m",
      "\u001b[0;31mValueError\u001b[0m                                Traceback (most recent call last)",
      "Cell \u001b[0;32mIn[1], line 9\u001b[0m\n\u001b[1;32m      7\u001b[0m \u001b[38;5;66;03m# saving xlsx file\u001b[39;00m\n\u001b[1;32m      8\u001b[0m GFG \u001b[38;5;241m=\u001b[39m pd\u001b[38;5;241m.\u001b[39mExcelWriter(\u001b[38;5;124m'\u001b[39m\u001b[38;5;124mNBA_2004_2024_Shots.xlsx\u001b[39m\u001b[38;5;124m'\u001b[39m)\n\u001b[0;32m----> 9\u001b[0m df_new\u001b[38;5;241m.\u001b[39mto_excel(GFG, index\u001b[38;5;241m=\u001b[39m\u001b[38;5;28;01mFalse\u001b[39;00m)\n\u001b[1;32m     11\u001b[0m GFG\u001b[38;5;241m.\u001b[39msave()\n",
      "File \u001b[0;32m~/anaconda3/lib/python3.11/site-packages/pandas/core/generic.py:2252\u001b[0m, in \u001b[0;36mNDFrame.to_excel\u001b[0;34m(self, excel_writer, sheet_name, na_rep, float_format, columns, header, index, index_label, startrow, startcol, engine, merge_cells, inf_rep, freeze_panes, storage_options)\u001b[0m\n\u001b[1;32m   2239\u001b[0m \u001b[38;5;28;01mfrom\u001b[39;00m \u001b[38;5;21;01mpandas\u001b[39;00m\u001b[38;5;21;01m.\u001b[39;00m\u001b[38;5;21;01mio\u001b[39;00m\u001b[38;5;21;01m.\u001b[39;00m\u001b[38;5;21;01mformats\u001b[39;00m\u001b[38;5;21;01m.\u001b[39;00m\u001b[38;5;21;01mexcel\u001b[39;00m \u001b[38;5;28;01mimport\u001b[39;00m ExcelFormatter\n\u001b[1;32m   2241\u001b[0m formatter \u001b[38;5;241m=\u001b[39m ExcelFormatter(\n\u001b[1;32m   2242\u001b[0m     df,\n\u001b[1;32m   2243\u001b[0m     na_rep\u001b[38;5;241m=\u001b[39mna_rep,\n\u001b[0;32m   (...)\u001b[0m\n\u001b[1;32m   2250\u001b[0m     inf_rep\u001b[38;5;241m=\u001b[39minf_rep,\n\u001b[1;32m   2251\u001b[0m )\n\u001b[0;32m-> 2252\u001b[0m formatter\u001b[38;5;241m.\u001b[39mwrite(\n\u001b[1;32m   2253\u001b[0m     excel_writer,\n\u001b[1;32m   2254\u001b[0m     sheet_name\u001b[38;5;241m=\u001b[39msheet_name,\n\u001b[1;32m   2255\u001b[0m     startrow\u001b[38;5;241m=\u001b[39mstartrow,\n\u001b[1;32m   2256\u001b[0m     startcol\u001b[38;5;241m=\u001b[39mstartcol,\n\u001b[1;32m   2257\u001b[0m     freeze_panes\u001b[38;5;241m=\u001b[39mfreeze_panes,\n\u001b[1;32m   2258\u001b[0m     engine\u001b[38;5;241m=\u001b[39mengine,\n\u001b[1;32m   2259\u001b[0m     storage_options\u001b[38;5;241m=\u001b[39mstorage_options,\n\u001b[1;32m   2260\u001b[0m )\n",
      "File \u001b[0;32m~/anaconda3/lib/python3.11/site-packages/pandas/io/formats/excel.py:923\u001b[0m, in \u001b[0;36mExcelFormatter.write\u001b[0;34m(self, writer, sheet_name, startrow, startcol, freeze_panes, engine, storage_options)\u001b[0m\n\u001b[1;32m    921\u001b[0m num_rows, num_cols \u001b[38;5;241m=\u001b[39m \u001b[38;5;28mself\u001b[39m\u001b[38;5;241m.\u001b[39mdf\u001b[38;5;241m.\u001b[39mshape\n\u001b[1;32m    922\u001b[0m \u001b[38;5;28;01mif\u001b[39;00m num_rows \u001b[38;5;241m>\u001b[39m \u001b[38;5;28mself\u001b[39m\u001b[38;5;241m.\u001b[39mmax_rows \u001b[38;5;129;01mor\u001b[39;00m num_cols \u001b[38;5;241m>\u001b[39m \u001b[38;5;28mself\u001b[39m\u001b[38;5;241m.\u001b[39mmax_cols:\n\u001b[0;32m--> 923\u001b[0m     \u001b[38;5;28;01mraise\u001b[39;00m \u001b[38;5;167;01mValueError\u001b[39;00m(\n\u001b[1;32m    924\u001b[0m         \u001b[38;5;124mf\u001b[39m\u001b[38;5;124m\"\u001b[39m\u001b[38;5;124mThis sheet is too large! Your sheet size is: \u001b[39m\u001b[38;5;132;01m{\u001b[39;00mnum_rows\u001b[38;5;132;01m}\u001b[39;00m\u001b[38;5;124m, \u001b[39m\u001b[38;5;132;01m{\u001b[39;00mnum_cols\u001b[38;5;132;01m}\u001b[39;00m\u001b[38;5;124m \u001b[39m\u001b[38;5;124m\"\u001b[39m\n\u001b[1;32m    925\u001b[0m         \u001b[38;5;124mf\u001b[39m\u001b[38;5;124m\"\u001b[39m\u001b[38;5;124mMax sheet size is: \u001b[39m\u001b[38;5;132;01m{\u001b[39;00m\u001b[38;5;28mself\u001b[39m\u001b[38;5;241m.\u001b[39mmax_rows\u001b[38;5;132;01m}\u001b[39;00m\u001b[38;5;124m, \u001b[39m\u001b[38;5;132;01m{\u001b[39;00m\u001b[38;5;28mself\u001b[39m\u001b[38;5;241m.\u001b[39mmax_cols\u001b[38;5;132;01m}\u001b[39;00m\u001b[38;5;124m\"\u001b[39m\n\u001b[1;32m    926\u001b[0m     )\n\u001b[1;32m    928\u001b[0m formatted_cells \u001b[38;5;241m=\u001b[39m \u001b[38;5;28mself\u001b[39m\u001b[38;5;241m.\u001b[39mget_formatted_cells()\n\u001b[1;32m    929\u001b[0m \u001b[38;5;28;01mif\u001b[39;00m \u001b[38;5;28misinstance\u001b[39m(writer, ExcelWriter):\n",
      "\u001b[0;31mValueError\u001b[0m: This sheet is too large! Your sheet size is: 4231262, 26 Max sheet size is: 1048576, 16384"
     ]
    }
   ],
   "source": [
    "import pandas as pd\n",
    " \n",
    " \n",
    "# Reading the csv file\n",
    "df_new = pd.read_csv('NBA_2004_2024_Shots.csv')\n",
    " \n",
    "# saving xlsx file\n",
    "GFG = pd.ExcelWriter('NBA_2004_2024_Shots.xlsx')\n",
    "df_new.to_excel(GFG, index=False)\n",
    " \n",
    "GFG.save()"
   ]
  },
  {
   "cell_type": "code",
   "execution_count": 2,
   "id": "b5e49de4",
   "metadata": {},
   "outputs": [],
   "source": [
    "# Create first JSON request\n",
    "shot_json1 = shotchartdetail.ShotChartDetail(\n",
    "            team_id = 0, # can input the id# but 0, will return all\n",
    "            player_id = 0, # can input the id# but 0, will return all\n",
    "            context_measure_simple = 'FGA', # also 'PTS' has ONLY makes\n",
    "            season_nullable = '2023-24',\n",
    "            season_type_all_star = 'Regular Season')    # can incldue (Pre Season, Playoffs, All Star)\n",
    "            \n",
    "# Load data into a Python dictionary\n",
    "shot_data1 = json.loads(shot_json1.get_json())\n",
    "\n",
    "# Get the relevant data from our dictionary\n",
    "relevant_data1 = shot_data1['resultSets'][0]\n",
    "\n",
    "# Get the headers and row data\n",
    "headers = relevant_data1['headers']\n",
    "rows = relevant_data1['rowSet']\n",
    "\n",
    "# Create pandas DataFrame\n",
    "nba_shot_data1 = pd.DataFrame(rows)\n",
    "nba_shot_data1.columns = headers"
   ]
  },
  {
   "cell_type": "code",
   "execution_count": 3,
   "id": "3a1923f5",
   "metadata": {},
   "outputs": [],
   "source": [
    "# Create a SECOND JSON request \n",
    "# this is for last years data\n",
    "shot_json2 = shotchartdetail.ShotChartDetail(\n",
    "            team_id = 0, # can input the id# but 0, will return all\n",
    "            player_id = 0, # can input the id# but 0, will return all\n",
    "            context_measure_simple = 'FGA', # also 'PTS' has ONLY makes\n",
    "            season_nullable = '2022-23',\n",
    "            season_type_all_star = 'Regular Season')    # can incldue (Pre Season, Playoffs, All Star)\n",
    "\n",
    "# Load data into a Python dictionary\n",
    "shot_data2 = json.loads(shot_json2.get_json())\n",
    "\n",
    "# Get the relevant data from our dictionary\n",
    "relevant_data2 = shot_data2['resultSets'][0]\n",
    "\n",
    "# Get the headers and row data\n",
    "headers = relevant_data2['headers']\n",
    "rows = relevant_data2['rowSet']\n",
    "\n",
    "# Create pandas DataFrame\n",
    "nba_shot_data2 = pd.DataFrame(rows)\n",
    "nba_shot_data2.columns = headers\n"
   ]
  },
  {
   "cell_type": "code",
   "execution_count": 6,
   "id": "eeaf1c81",
   "metadata": {},
   "outputs": [],
   "source": [
    "# combine both dataframes from each year \n",
    "nba_shot_data = pd.concat([nba_shot_data1, nba_shot_data2])\n",
    "\n",
    "#update game_date type \n",
    "nba_shot_data['GAME_DATE'] = nba_shot_data['GAME_DATE'].apply(lambda x: datetime.datetime.strptime(x, '%Y%m%d').strftime('%m-%d-%Y'))\n",
    "\n",
    "# update SHOT_TYPE column \n",
    "# Replace \"2PT Field Goal\" with \"2PT FG\"\n",
    "nba_shot_data['SHOT_TYPE'] = nba_shot_data['SHOT_TYPE'].replace('2PT Field Goal', '2PT FG')\n",
    "nba_shot_data['SHOT_TYPE'] = nba_shot_data['SHOT_TYPE'].replace('3PT Field Goal', '3PT FG')"
   ]
  },
  {
   "cell_type": "code",
   "execution_count": 7,
   "id": "545b6547",
   "metadata": {},
   "outputs": [],
   "source": [
    "# Update Period column, by defining a function to map Period to Quarter\n",
    "# define function to map period to quarter\n",
    "def map_period_to_qtr(period):\n",
    "    quarter_map = {1: 'Q1', 2: 'Q2', 3: 'Q3', 4: 'Q4', 5: 'OT1', 6: 'OT2', 7: 'OT3', 8: 'OT4'}\n",
    "    return quarter_map.get(period)"
   ]
  },
  {
   "cell_type": "code",
   "execution_count": 8,
   "id": "be71995a",
   "metadata": {},
   "outputs": [],
   "source": [
    "# Add column for quarter\n",
    "nba_shot_data['QUARTER'] = nba_shot_data['PERIOD'].apply(map_period_to_qtr)"
   ]
  },
  {
   "cell_type": "code",
   "execution_count": 10,
   "id": "34309e2e",
   "metadata": {},
   "outputs": [],
   "source": [
    "# EXPORT TO CSV\n",
    "# create your own path and file name\n",
    "nba_shot_data.to_csv(r'NBA, 22-24, FGA.csv', index=False)"
   ]
  }
 ],
 "metadata": {
  "kernelspec": {
   "display_name": "Python 3 (ipykernel)",
   "language": "python",
   "name": "python3"
  },
  "language_info": {
   "codemirror_mode": {
    "name": "ipython",
    "version": 3
   },
   "file_extension": ".py",
   "mimetype": "text/x-python",
   "name": "python",
   "nbconvert_exporter": "python",
   "pygments_lexer": "ipython3",
   "version": "3.11.5"
  }
 },
 "nbformat": 4,
 "nbformat_minor": 5
}
